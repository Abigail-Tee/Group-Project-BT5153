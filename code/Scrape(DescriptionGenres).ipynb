{
 "cells": [
  {
   "cell_type": "code",
   "execution_count": 1,
   "metadata": {},
   "outputs": [],
   "source": [
    "import pandas as pd\n",
    "import numpy as np\n",
    "import warnings\n",
    "warnings.filterwarnings('ignore')\n",
    "import datetime as dt\n",
    "import time\n",
    "import timeit\n",
    "from IPython.display import clear_output\n",
    "from goodreads import client\n",
    "import random\n",
    "#gc = client.GoodreadsClient('insert key')"
   ]
  },
  {
   "cell_type": "code",
   "execution_count": 2,
   "metadata": {},
   "outputs": [],
   "source": [
    "#Imports data, inserts columns, sets column dtype\n",
    "df_all = pd.read_csv('books1.csv')\n",
    "genre = pd.read_csv('genreslist.csv')\n",
    "\n",
    "#Slice data - do not change function \n",
    "def slice_data(start_index,end_index): \n",
    "    df = df_all[start_index:end_index].reset_index(drop=True)\n",
    "    return df\n",
    "\n",
    "###Change below - change start and end index\n",
    "start_index = 2\n",
    "end_index = 5\n",
    "df = slice_data(start_index,end_index)"
   ]
  },
  {
   "cell_type": "code",
   "execution_count": 3,
   "metadata": {},
   "outputs": [],
   "source": [
    "#Lists \n",
    "bgenrelist = genre['genre'].tolist()\n",
    "bookgenres = {}\n",
    "broken = []\n",
    "\n",
    "def book_description(df): \n",
    "    start = timeit.default_timer()\n",
    "    for x in range(len(df)): \n",
    "        clear_output(wait=True)\n",
    "\n",
    "        #Set initial values to None \n",
    "        description = None\n",
    "        genrestring = None\n",
    "\n",
    "        #Obtain isbn and book description\n",
    "        try:    \n",
    "            myisbn = int(df.loc[x][1])\n",
    "            book = gc.book(isbn = myisbn)\n",
    "            description = book.description\n",
    "            df.loc[x,'description'] = description\n",
    "        \n",
    "        #Pulls list of shelves and removes shelves that are not on predefined genre list\n",
    "            books = book._book_dict['popular_shelves']['shelf']\n",
    "            index = range(len(books))\n",
    "            genres = pd.DataFrame(books, columns=['isbn13','@name', '@count'], index=index)\n",
    "            bookgenres[str(myisbn)]=genres\n",
    "        \n",
    "            genrelist = bookgenres[str(myisbn)]['@name'].tolist()\n",
    "            genrelistkeep = []\n",
    "\n",
    "            for i in genrelist:\n",
    "                if i in bgenrelist:\n",
    "                    genrelistkeep.append(i)\n",
    "                else:\n",
    "                    continue\n",
    "                \n",
    "            genrestring = str(genrelistkeep).strip('[]')\n",
    "            if genrestring == \"\":\n",
    "                genrestring = None\n",
    "            df.loc[x,'genres'] = genrestring\n",
    "        \n",
    "        #If API fails to pull shelves or description, appends ISBN to list for further investigation\n",
    "        except:\n",
    "            broken.append(myisbn)          \n",
    "            pass\n",
    "        \n",
    "        stop =  timeit.default_timer()  \n",
    "        \n",
    "        #Random rest time after ever 70 books\n",
    "        if x % 70 == 0: \n",
    "            time.sleep(random.randint(3,5))\n",
    "        \n",
    "        #Times\n",
    "        if x < 10: \n",
    "                expected_time = \"Calculating...\" \n",
    "        else: \n",
    "            stop1 = timeit.default_timer()\n",
    "            expected_time = np.round( ( (stop1-start)/(x/len(df)) )/60, 2)\n",
    "\n",
    "        print('Current progress:', np.round((x+1)/len(df)*100, 2),\"%\")\n",
    "        print('Current progress: {} out of {} books.'.format(x+1,len(df)))\n",
    "        print('Total run time:', np.round((stop-start)/60, 2), \"minutes\")\n",
    "        print('Expected run time:', expected_time, \"minutes\")\n"
   ]
  },
  {
   "cell_type": "code",
   "execution_count": 4,
   "metadata": {},
   "outputs": [
    {
     "name": "stdout",
     "output_type": "stream",
     "text": [
      "Current progress: 100.0 %\n",
      "Current progress: 3 out of 3 books.\n",
      "Total run time: 0.13 minutes\n",
      "Expected run time: Calculating... minutes\n"
     ]
    }
   ],
   "source": [
    "#Scrape\n",
    "book_description(df)"
   ]
  },
  {
   "cell_type": "code",
   "execution_count": 5,
   "metadata": {},
   "outputs": [],
   "source": [
    "#Save to csv\n",
    "file_name = 'output_' + str(start_index) + '_' + str(end_index) + '.csv'\n",
    "df.to_csv(file_name, index=False) "
   ]
  }
 ],
 "metadata": {
  "kernelspec": {
   "display_name": "Python 3",
   "language": "python",
   "name": "python3"
  },
  "language_info": {
   "codemirror_mode": {
    "name": "ipython",
    "version": 3
   },
   "file_extension": ".py",
   "mimetype": "text/x-python",
   "name": "python",
   "nbconvert_exporter": "python",
   "pygments_lexer": "ipython3",
   "version": "3.6.8"
  }
 },
 "nbformat": 4,
 "nbformat_minor": 2
}
