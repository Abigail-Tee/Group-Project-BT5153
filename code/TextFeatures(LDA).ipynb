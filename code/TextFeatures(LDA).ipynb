{
 "cells": [
  {
   "cell_type": "code",
   "execution_count": null,
   "metadata": {},
   "outputs": [],
   "source": [
    "import pandas as pd\n",
    "import numpy as np\n",
    "\n",
    "import nltk\n",
    "import gensim\n",
    "from gensim import corpora, models\n",
    "from sklearn.decomposition import LatentDirichletAllocation\n",
    "from sklearn.feature_extraction.text import CountVectorizer\n",
    "\n",
    "import pickle\n",
    "\n",
    "%env JOBLIB_TEMP_FOLDER=/tmp"
   ]
  },
  {
   "cell_type": "code",
   "execution_count": null,
   "metadata": {},
   "outputs": [],
   "source": [
    "books = pd.read_csv('books_cleaned_v4.csv')\n",
    "\n",
    "#Sample on 50000 rows\n",
    "description = books.loc[:49999,'description'].reset_index().drop(columns = ['index'], axis = 1)\n",
    "train = description['description']\n",
    "train"
   ]
  },
  {
   "cell_type": "markdown",
   "metadata": {},
   "source": [
    "### Train LDA Model"
   ]
  },
  {
   "cell_type": "code",
   "execution_count": null,
   "metadata": {},
   "outputs": [],
   "source": [
    "vectorizer = CountVectorizer(strip_accents='unicode')\n",
    "\n",
    "train_vectorized = vectorizer.fit_transform(train)\n",
    "print(train_vectorized.shape)\n",
    "feature_names = vectorizer.get_feature_names()"
   ]
  },
  {
   "cell_type": "code",
   "execution_count": null,
   "metadata": {},
   "outputs": [],
   "source": [
    "#Build LDA Model\n",
    "num_topics = 2000\n",
    "lda_model = LatentDirichletAllocation(n_components=num_topics,               # Number of topics\n",
    "                                      max_iter=10,               # Max learning iterations\n",
    "                                      learning_method='batch',   \n",
    "                                      random_state=0,          # Random state\n",
    "                                      batch_size=1024,            # n docs in each learning iter\n",
    "                                      evaluate_every = -1,       # compute perplexity every n iters, default: Don't\n",
    "                                      n_jobs = -1\n",
    "                                      )# Use all available CPUs\n",
    "                                     \n",
    "\n",
    "lda_output = lda_model.fit_transform(train_vectorized)\n",
    "\n",
    "print(lda_model)  # Model attributes"
   ]
  },
  {
   "cell_type": "code",
   "execution_count": null,
   "metadata": {},
   "outputs": [],
   "source": [
    "# #Topic Keywords\n",
    "df_topic_keywords = pd.DataFrame(lda_model.components_)\n",
    "df_topic_keywords.columns = vectorizer.get_feature_names()\n",
    "df_topic_keywords.to_csv('df_topic_keywords.csv')\n",
    "\n",
    "#Top terms in each topic\n",
    "with open('topicwords.txt', 'w') as f:\n",
    "    for x in range(0,len(df_topic_keywords)):\n",
    "        words = df_topic_keywords.loc[x,:]\n",
    "        words = words.sort_values(ascending=False)\n",
    "        print('Topic %s:' % x, file=f)\n",
    "        print (\" \".join(i for i in words.index[:30]), file = f)"
   ]
  },
  {
   "cell_type": "code",
   "execution_count": null,
   "metadata": {},
   "outputs": [],
   "source": [
    "#Document Term Matrix \n",
    "\n",
    "doc_topic_matrix = lda_model.transform(train_vectorized)\n",
    "df_document_topic = pd.DataFrame(doc_topic_matrix)\n",
    "df_document_topic.to_csv('df_document_topic.csv')"
   ]
  },
  {
   "cell_type": "code",
   "execution_count": null,
   "metadata": {},
   "outputs": [],
   "source": [
    "#Export models for use\n",
    "pickle.dump(lda_model, open('lda_model.pk', 'wb'))\n",
    "pickle.dump(vectorizer, open('vectorizer.pk', 'wb'))"
   ]
  }
 ],
 "metadata": {
  "kernelspec": {
   "display_name": "Python 3",
   "language": "python",
   "name": "python3"
  },
  "language_info": {
   "codemirror_mode": {
    "name": "ipython",
    "version": 3
   },
   "file_extension": ".py",
   "mimetype": "text/x-python",
   "name": "python",
   "nbconvert_exporter": "python",
   "pygments_lexer": "ipython3",
   "version": "3.7.6"
  }
 },
 "nbformat": 4,
 "nbformat_minor": 2
}
